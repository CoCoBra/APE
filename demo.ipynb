{
 "cells": [
  {
   "cell_type": "code",
   "execution_count": 1,
   "metadata": {
    "collapsed": false
   },
   "outputs": [
    {
     "name": "stderr",
     "output_type": "stream",
     "text": [
      "Using TensorFlow backend.\n"
     ]
    }
   ],
   "source": [
    "import numpy as np\n",
    "import pandas as pd\n",
    "import random\n",
    "import os\n",
    "from os.path import expanduser\n",
    "import sys\n",
    "from collections import Counter\n",
    "\n",
    "import seaborn as sns\n",
    "import matplotlib.pyplot as plt\n",
    "%matplotlib inline\n",
    "sns.set_context('poster')\n",
    "\n",
    "code_base='./'\n",
    "sys.path.insert(0, code_base)\n",
    "sys.path.insert(0, code_base+'sampler')\n",
    "sys.path.insert(0, code_base+'models')\n",
    "\n",
    "from utility import data_transformation, transform_with_keys, generate_mixed_events\n",
    "from utility import get_entity_samplers_and_noise_prob, get_entity_type_sampler_and_mappings\n",
    "\n",
    "from sklearn.metrics import average_precision_score, roc_auc_score\n",
    "from metrics_ranking import eval_multiple, eval_apk\n",
    "\n",
    "import keras\n",
    "import keras.backend as K\n",
    "from keras.models import Sequential, Model\n",
    "from keras.layers import Layer, Input, Dense, Embedding, Flatten, Merge, AveragePooling1D, Merge, Permute, merge\n",
    "from keras.regularizers import WeightRegularizer, l1, l2, activity_l2, activity_l1"
   ]
  },
  {
   "cell_type": "markdown",
   "metadata": {},
   "source": [
    "# Data and utility preparations"
   ]
  },
  {
   "cell_type": "code",
   "execution_count": 2,
   "metadata": {
    "collapsed": true
   },
   "outputs": [],
   "source": [
    "# data locations\n",
    "data_folder = 'demo_toy/'                      # it only contains unrunnable toy data for demonstration\n",
    "data_event_file = data_folder + '/events.csv'  # historical events without any label\n",
    "data_test_file = data_folder + '/test.csv'     # test (future) events with additional label column"
   ]
  },
  {
   "cell_type": "code",
   "execution_count": 3,
   "metadata": {
    "collapsed": false
   },
   "outputs": [],
   "source": [
    "# load data\n",
    "home = expanduser('~')\n",
    "table = pd.read_csv(data_event_file)\n",
    "table_test = pd.read_csv(data_test_file)\n",
    "\n",
    "# index the entities in data\n",
    "table_transformed, id2type_and_name, type_and_name2id, type2range = data_transformation(table)\n",
    "table_transformed_test = transform_with_keys(table_test, table_test.columns[:-1], type_and_name2id)\n",
    "# drop rows in test with NaN if there are any (imputation can also be used here)\n",
    "table_transformed_test = table_transformed_test.dropna()\n",
    "\n",
    "# sampler preparation\n",
    "type2sampler, noise_prob = get_entity_samplers_and_noise_prob(table_transformed, noise_prob_cal='logkPn@10', neg_dist='unigram')\n",
    "type2typeid, typeid2type, entity_type_sample, type_cad_dist = get_entity_type_sampler_and_mappings(table_transformed, neg_dist='uniform')"
   ]
  },
  {
   "cell_type": "code",
   "execution_count": 4,
   "metadata": {
    "collapsed": false
   },
   "outputs": [],
   "source": [
    "class DataSpec(object):\n",
    "    def __init__(self, table_transformed, type2range):\n",
    "        self.num_entity_type = len(table_transformed.columns)\n",
    "        self.num_entity = max([max(type_range) for each, type_range in type2range.iteritems()]) - \\\n",
    "                          min([min(type_range) for each, type_range in type2range.iteritems()]) + 1\n",
    "            \n",
    "data_spec = DataSpec(table_transformed, type2range)"
   ]
  },
  {
   "cell_type": "markdown",
   "metadata": {
    "collapsed": true
   },
   "source": [
    "# Model specifications and run"
   ]
  },
  {
   "cell_type": "code",
   "execution_count": 5,
   "metadata": {
    "collapsed": false,
    "scrolled": true
   },
   "outputs": [],
   "source": [
    "class Conf(object):\n",
    "    def __init__(self):\n",
    "        self.max_epoch = 10\n",
    "        self.batch_size = 512\n",
    "        self.num_negatives = 5\n",
    "        self.emb_dim = 10\n",
    "        self.loss = 'skip-gram'\n",
    "        #self.loss = 'max-margin'\n",
    "        self.no_weight = False\n",
    "        self.ignore_noise_dist = False\n",
    "        \n",
    "conf = Conf()\n",
    "import ape\n",
    "reload(ape)\n",
    "from ape import get_model\n",
    "model = get_model(conf, data_spec)"
   ]
  },
  {
   "cell_type": "code",
   "execution_count": 6,
   "metadata": {
    "collapsed": false,
    "scrolled": true
   },
   "outputs": [
    {
     "name": "stdout",
     "output_type": "stream",
     "text": [
      "[INFO] epoch 1, cost: 0.340711 norm 0.246857\n",
      "[INFO] epoch 2, cost: 0.190969 norm 0.348757\n",
      "[INFO] epoch 3, cost: 0.167266 norm 0.423766\n",
      "[INFO] epoch 4, cost: 0.164935 norm 0.464869\n",
      "[INFO] epoch 5, cost: 0.164203 norm 0.501307\n",
      "[INFO] epoch 6, cost: 0.151317 norm 0.532868\n",
      "[INFO] epoch 7, cost: 0.158085 norm 0.552177\n",
      "[INFO] epoch 8, cost: 0.154772 norm 0.577105\n",
      "[INFO] epoch 9, cost: 0.138678 norm 0.600417\n",
      "[INFO] epoch 10, cost: 0.152146 norm 0.614172\n"
     ]
    }
   ],
   "source": [
    "# main logics\n",
    "\n",
    "abandon_uneven_batch = True\n",
    "batch_size = conf.batch_size\n",
    "num_negatives = conf.num_negatives\n",
    "events = np.array(table_transformed)\n",
    "num_iters = np.ceil(events.shape[0] / float(batch_size)).astype(int)\n",
    "for epoch in range(1, conf.max_epoch + 1):\n",
    "    np.random.shuffle(events)\n",
    "    cost = 0\n",
    "    entity_type_assigns = entity_type_sample(num_iters)\n",
    "    for it in range(num_iters):\n",
    "        neg_entity_typeid = entity_type_assigns[it]\n",
    "        events_batch = events[it * batch_size: (it + 1) * batch_size]\n",
    "        if abandon_uneven_batch and events_batch.shape[0] != batch_size:\n",
    "            continue\n",
    "        events_batch_mixed, events_noise_prob, events_label = \\\n",
    "            generate_mixed_events(events_batch, neg_entity_typeid, num_negatives, type2sampler, typeid2type, noise_prob)\n",
    "        cost += model.train_on_batch([events_batch_mixed, events_noise_prob], events_label)\n",
    "    print '[INFO] epoch %d, cost: %f' % (epoch, cost), 'norm', np.sqrt(np.mean(model.get_weights()[0]**2))"
   ]
  },
  {
   "cell_type": "markdown",
   "metadata": {},
   "source": [
    "# Evaluation"
   ]
  },
  {
   "cell_type": "code",
   "execution_count": 7,
   "metadata": {
    "collapsed": false
   },
   "outputs": [
    {
     "name": "stdout",
     "output_type": "stream",
     "text": [
      "truth_mean 0.450419210033\n",
      "pred_mean 5.68575\n",
      "AP 0.936628846843\n",
      "AUC 0.925326399191\n"
     ]
    }
   ],
   "source": [
    "# evaluation system anomaly\n",
    "def eval_print(table_transformed_w_label):\n",
    "    truth = np.array(table_transformed_w_label)[:, -1]\n",
    "    truth[truth > 0] = 1\n",
    "    truth = truth* -1 + 1\n",
    "    print 'truth_mean', np.mean(truth)\n",
    "    pred = -model.predict([np.array(table_transformed_w_label)[:, :-1], np.zeros(table_transformed_w_label.shape[0])], batch_size=1024)[:, 0]\n",
    "    perturbation = np.random.random(pred.shape) * 1e-4\n",
    "    pred += perturbation\n",
    "    pred_random = pred.copy()\n",
    "    np.random.shuffle(pred_random)\n",
    "    print 'pred_mean', np.mean(pred)\n",
    "    print 'AP', average_precision_score(truth, pred)#, average_precision_score(truth, pred_random)\n",
    "    print 'AUC', roc_auc_score(truth, pred)#, roc_auc_score(truth, pred_random)\n",
    "    \n",
    "eval_print(table_transformed_test)"
   ]
  },
  {
   "cell_type": "code",
   "execution_count": null,
   "metadata": {
    "collapsed": true
   },
   "outputs": [],
   "source": []
  }
 ],
 "metadata": {
  "anaconda-cloud": {},
  "kernelspec": {
   "display_name": "Python [default]",
   "language": "python",
   "name": "python2"
  },
  "language_info": {
   "codemirror_mode": {
    "name": "ipython",
    "version": 2
   },
   "file_extension": ".py",
   "mimetype": "text/x-python",
   "name": "python",
   "nbconvert_exporter": "python",
   "pygments_lexer": "ipython2",
   "version": "2.7.12"
  },
  "toc": {
   "toc_cell": false,
   "toc_number_sections": true,
   "toc_threshold": 4,
   "toc_window_display": false
  }
 },
 "nbformat": 4,
 "nbformat_minor": 0
}
